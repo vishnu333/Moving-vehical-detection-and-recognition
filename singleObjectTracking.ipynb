{
 "cells": [
  {
   "cell_type": "code",
   "execution_count": 1,
   "metadata": {},
   "outputs": [],
   "source": [
    "import numpy as np\n",
    "import cv2"
   ]
  },
  {
   "cell_type": "code",
   "execution_count": 2,
   "metadata": {},
   "outputs": [],
   "source": [
    "def ask_tracker():\n",
    "    print('0 - Boosting')\n",
    "    print('1 - MIL')\n",
    "    print('2 - kcf')\n",
    "    print('3 - tld')\n",
    "    print('4 - medianflow')\n",
    "    print('5 - goturn')\n",
    "    print('6 - mosse')\n",
    "    print('7 - csrt')\n",
    "    \n",
    "    choice = input('tractker : ')\n",
    "    \n",
    "    if choice == '0':\n",
    "        tracker = cv2.TrackerBoosting_create()\n",
    "    if choice == '1':\n",
    "        tracker = cv2.TrackerMIL_create()\n",
    "    if choice == '2':\n",
    "        tracker = cv2.TrackerKCF_create()\n",
    "    if choice == '3':\n",
    "        tracker = cv2.TrackerTLD_create()\n",
    "    if choice == '4':\n",
    "        tracker = cv2.TrackerMedianFlow_create()\n",
    "    if choice == '5':\n",
    "        tracker = cv2.TrackerGOTURN_create()\n",
    "    if choice == '6':\n",
    "        tracker = cv2.TrackerMOSSE_create()\n",
    "    if choice == '7':\n",
    "        tracker = cv2.TrackerCSRT_create()\n",
    "    return tracker"
   ]
  },
  {
   "cell_type": "code",
   "execution_count": null,
   "metadata": {},
   "outputs": [
    {
     "name": "stdout",
     "output_type": "stream",
     "text": [
      "0 - Boosting\n",
      "1 - MIL\n",
      "2 - kcf\n",
      "3 - tld\n",
      "4 - medianflow\n",
      "5 - goturn\n",
      "6 - mosse\n",
      "7 - csrt\n",
      "tractker : 0\n"
     ]
    }
   ],
   "source": [
    "tracker = ask_tracker()\n",
    "tracker_name = str(tracker).split()[0][1:]\n",
    "\n",
    "cap = cv2.VideoCapture('C:\\\\Users\\\\vishn\\\\holidays\\\\coursera\\\\object tracking\\\\Video\\\\test_video.mp4')\n",
    "ret,frame = cap.read()\n",
    "roi = cv2.selectROI(frame,False)\n",
    "\n",
    "ret = tracker.init(frame,roi)\n",
    "\n",
    "while True :\n",
    "    ret,frame = cap.read()\n",
    "    success,roi = tracker.update(frame)\n",
    "    x,y,w,h = tuple(map(int,roi))\n",
    "    \n",
    "    if success :\n",
    "        pts1 = (x,y)\n",
    "        pts2 = (x+w,y+h)\n",
    "        cv2.rectangle(frame,pts1,pts2,(255,255,0),3)\n",
    "    else :\n",
    "        cv2.putText(frame,'Not Found',(100,200),cv2.FONT_HERSHEY_SIMPLEX,1,(255,125,0),3)\n",
    "        \n",
    "    cv2.putText(frame,tracker_name,(25,100),cv2.FONT_HERSHEY_SIMPLEX,1,(0,225,120),3)\n",
    "    \n",
    "    cv2.imshow(tracker_name,frame)\n",
    "    \n",
    "    if cv2.waitKey(5) == ord('q'):\n",
    "        break\n",
    "cap.release()\n",
    "cv2.destroyAllWindows()"
   ]
  },
  {
   "cell_type": "code",
   "execution_count": null,
   "metadata": {},
   "outputs": [],
   "source": []
  }
 ],
 "metadata": {
  "kernelspec": {
   "display_name": "Python 3",
   "language": "python",
   "name": "python3"
  },
  "language_info": {
   "codemirror_mode": {
    "name": "ipython",
    "version": 3
   },
   "file_extension": ".py",
   "mimetype": "text/x-python",
   "name": "python",
   "nbconvert_exporter": "python",
   "pygments_lexer": "ipython3",
   "version": "3.7.4"
  }
 },
 "nbformat": 4,
 "nbformat_minor": 4
}
